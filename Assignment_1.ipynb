{
 "cells": [
  {
   "cell_type": "markdown",
   "id": "d4575a32",
   "metadata": {},
   "source": [
    "# Assignment_1"
   ]
  },
  {
   "cell_type": "markdown",
   "id": "56454de6",
   "metadata": {},
   "source": [
    "1. In the below elements which of them are values or an expression? eg:- values can be\n",
    "integer or string and expressions will be mathematical operators.\n",
    "\n",
    "ANSWER\n",
    "\n",
    "* -expression\n",
    "'hello' ---values\n",
    "-87.8 ---values\n",
    "- expression\n",
    "/ expression\n",
    "+ expression\n",
    "6 values\n"
   ]
  },
  {
   "cell_type": "markdown",
   "id": "e32fd7dc",
   "metadata": {},
   "source": [
    "2. What is the difference between string and variable?\n",
    "\n",
    "ANSWER\n",
    "\n",
    "Variable is a store of information\n",
    "String is a datatype which can be store inside a variable"
   ]
  },
  {
   "cell_type": "markdown",
   "id": "a572938d",
   "metadata": {},
   "source": [
    "3. Describe three different data types.\n",
    "\n",
    "ANSWER\n",
    "\n",
    "Integer, Boolean, String, Character"
   ]
  },
  {
   "cell_type": "markdown",
   "id": "384fc623",
   "metadata": {},
   "source": [
    "4. What is an expression made up of? What do all expressions do?\n",
    "\n",
    "ANSWER\n",
    "\n",
    "An expression is a combination of operators and operands that is interpreted to produce some other value.Operators, and method invocations, which are constructed according to the syntax of the language, that evaluates to a single value."
   ]
  },
  {
   "cell_type": "markdown",
   "id": "4c9b9554",
   "metadata": {},
   "source": [
    "5. This assignment statements, like spam = 10. What is the difference between an\n",
    "expression and a statement?\n",
    "\n",
    "An expression usually refers to a piece of code that can be evaluated to a value, and is composed of variables, operators, function calls, and literals. In most programming languages, common examples of expressions are method calls and mathematical operations.\n",
    "\n",
    "Conversely, a statement refers to a piece of code that executes a specific instruction or tells the computer to complete a task.  A statement can take the form of assignments, control statements, import statements, loop statements, jump statements, or method calls."
   ]
  },
  {
   "cell_type": "markdown",
   "id": "92fb7de3",
   "metadata": {},
   "source": [
    "6. After running the following code, what does the variable bacon contain?\n",
    "bacon = 22\n",
    "bacon + 1\n",
    "\n",
    "ANSWER\n",
    "\n",
    "bacon = 23"
   ]
  },
  {
   "cell_type": "code",
   "execution_count": 2,
   "id": "d8886184",
   "metadata": {},
   "outputs": [
    {
     "data": {
      "text/plain": [
       "23"
      ]
     },
     "execution_count": 2,
     "metadata": {},
     "output_type": "execute_result"
    }
   ],
   "source": [
    "bacon =22\n",
    "bacon +1"
   ]
  },
  {
   "cell_type": "markdown",
   "id": "e939b9dc",
   "metadata": {},
   "source": [
    "7. What should the values of the following two terms be?\n",
    "\n",
    "'spam' + 'spamspam'\n",
    "\n",
    "'spam' *3\n",
    "\n",
    "ANSWER\n",
    "\n",
    "It would be 'spamspamspam'. Code is written below"
   ]
  },
  {
   "cell_type": "code",
   "execution_count": 6,
   "id": "76283bfe",
   "metadata": {},
   "outputs": [
    {
     "data": {
      "text/plain": [
       "'spamspamspam'"
      ]
     },
     "execution_count": 6,
     "metadata": {},
     "output_type": "execute_result"
    }
   ],
   "source": [
    "'spam' + 'spamspam'\n",
    "\n"
   ]
  },
  {
   "cell_type": "code",
   "execution_count": 7,
   "id": "229c2167",
   "metadata": {},
   "outputs": [
    {
     "data": {
      "text/plain": [
       "'spamspamspam'"
      ]
     },
     "execution_count": 7,
     "metadata": {},
     "output_type": "execute_result"
    }
   ],
   "source": [
    "\n",
    "\n",
    "'spam' *3"
   ]
  },
  {
   "cell_type": "markdown",
   "id": "655404cf",
   "metadata": {},
   "source": [
    "8. Why is eggs a valid variable name while 100 is invalid?\n",
    "\n",
    "ANSWER\n",
    "\n",
    "Variable name should be start with a Character & it shoukd not start with number or only number."
   ]
  },
  {
   "cell_type": "markdown",
   "id": "55d43ae0",
   "metadata": {},
   "source": [
    "8.What three functions can be used to get the integer, floating-point number, or string\n",
    "version of a value?\n",
    "\n",
    "ANSWER\n",
    "\n",
    "int() , float() , str()\n",
    "\n",
    "These three function can be used to get integer, floating-point number, or string\n",
    "version of a value."
   ]
  },
  {
   "cell_type": "markdown",
   "id": "016db469",
   "metadata": {},
   "source": [
    "10. Why does this expression cause an error? How can you fix it?\n",
    "'I have eaten' + 99 +  'burritos'\n",
    "\n",
    "ANSWER\n",
    "\n",
    "As we are adding string with in integer so it will create an error. We can fix this by making 99 into a string.\n",
    "\n",
    "Code written below\n"
   ]
  },
  {
   "cell_type": "code",
   "execution_count": 11,
   "id": "abe0b1b9",
   "metadata": {},
   "outputs": [
    {
     "data": {
      "text/plain": [
       "'I have eaten 99 burritos'"
      ]
     },
     "execution_count": 11,
     "metadata": {},
     "output_type": "execute_result"
    }
   ],
   "source": [
    " 'I have eaten ' + str(99) + ' burritos'"
   ]
  },
  {
   "cell_type": "code",
   "execution_count": null,
   "id": "91b859e2",
   "metadata": {},
   "outputs": [],
   "source": []
  }
 ],
 "metadata": {
  "kernelspec": {
   "display_name": "Python 3 (ipykernel)",
   "language": "python",
   "name": "python3"
  },
  "language_info": {
   "codemirror_mode": {
    "name": "ipython",
    "version": 3
   },
   "file_extension": ".py",
   "mimetype": "text/x-python",
   "name": "python",
   "nbconvert_exporter": "python",
   "pygments_lexer": "ipython3",
   "version": "3.9.7"
  }
 },
 "nbformat": 4,
 "nbformat_minor": 5
}
